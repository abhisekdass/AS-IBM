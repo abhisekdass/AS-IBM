{
 "cells": [
  {
   "cell_type": "code",
   "execution_count": 2,
   "id": "43272411-c8ef-4d9c-b6da-ee861f98c599",
   "metadata": {},
   "outputs": [
    {
     "data": {
      "image/png": "[encoded data removed]",
      "text/plain": [
       "<Figure size 640x480 with 1 Axes>"
      ]
     },
     "metadata": {},
     "output_type": "display_data"
    }
   ],
   "source": [
    "import numpy as np\n",
    "import matplotlib.pyplot as plt\n",
    "\n",
    "x = np.random.binomial(n=10, p=0.5, size=10)\n",
    "plt.hist(x, bins=range(12), edgecolor='black')  # Set bin ranges and edgecolor for clarity\n",
    "plt.title(\"My Graph\")\n",
    "plt.xlabel(\"x-axis data\")\n",
    "plt.ylabel(\"y-axis data\")\n",
    "plt.show()"
   ]
  },
  {
   "cell_type": "code",
   "execution_count": 4,
   "id": "36ed9401-234c-4d41-8d50-89c684510e06",
   "metadata": {},
   "outputs": [
    {
     "name": "stdout",
     "output_type": "stream",
     "text": [
      "0    P\n",
      "1    a\n",
      "2    n\n",
      "3    d\n",
      "4    a\n",
      "5    s\n",
      "dtype: object\n"
     ]
    }
   ],
   "source": [
    "import pandas as pd\n",
    "import numpy as np\n",
    "info=np.array(['P','a','n','d','a','s'])\n",
    "a=pd.Series(info)\n",
    "print(a)"
   ]
  },
  {
   "cell_type": "code",
   "execution_count": 6,
   "id": "a67ada5a-99b6-4190-a73d-6f26ddb6e7d3",
   "metadata": {},
   "outputs": [
    {
     "name": "stdout",
     "output_type": "stream",
     "text": [
      "        0\n",
      "0  python\n",
      "1  pandas\n"
     ]
    }
   ],
   "source": [
    "import pandas as pd\n",
    "x=['python','pandas']\n",
    "df=pd.DataFrame(x)\n",
    "print(df)"
   ]
  },
  {
   "cell_type": "code",
   "execution_count": 9,
   "id": "7afc365e-1b3e-4800-ac0e-e90184b0bdc0",
   "metadata": {},
   "outputs": [
    {
     "data": {
      "text/plain": [
       "0    NaN\n",
       "1    NaN\n",
       "2    NaN\n",
       "3    NaN\n",
       "dtype: object"
      ]
     },
     "execution_count": 9,
     "metadata": {},
     "output_type": "execute_result"
    }
   ],
   "source": [
    "import pandas as pd\n",
    "import numpy as np\n",
    "a=pd.Series(['Java','C','C++',np.nan])\n",
    "a.map({'java':'Core'})\n"
   ]
  },
  {
   "cell_type": "code",
   "execution_count": 8,
   "id": "87cc7744-5c2c-4c81-8e9c-39eb389155bd",
   "metadata": {},
   "outputs": [
    {
     "data": {
      "text/plain": [
       "0    I likeJava\n",
       "1       I likeC\n",
       "2     I likeC++\n",
       "3           NaN\n",
       "dtype: object"
      ]
     },
     "execution_count": 8,
     "metadata": {},
     "output_type": "execute_result"
    }
   ],
   "source": [
    "import pandas as pd\n",
    "import numpy as np\n",
    "a=pd.Series(['Java','C','C++',np.nan])\n",
    "a.map('I like{}' .format,na_action='ignore')"
   ]
  },
  {
   "cell_type": "code",
   "execution_count": 12,
   "id": "167e6a43-0007-48cb-ad19-7b0f949520fc",
   "metadata": {},
   "outputs": [
    {
     "data": {
      "text/html": [
       "<div>\n",
       "<style scoped>\n",
       "    .dataframe tbody tr th:only-of-type {\n",
       "        vertical-align: middle;\n",
       "    }\n",
       "\n",
       "    .dataframe tbody tr th {\n",
       "        vertical-align: top;\n",
       "    }\n",
       "\n",
       "    .dataframe thead th {\n",
       "        text-align: right;\n",
       "    }\n",
       "</style>\n",
       "<table border=\"1\" class=\"dataframe\">\n",
       "  <thead>\n",
       "    <tr style=\"text-align: right;\">\n",
       "      <th></th>\n",
       "      <th>vals</th>\n",
       "    </tr>\n",
       "  </thead>\n",
       "  <tbody>\n",
       "    <tr>\n",
       "      <th>0</th>\n",
       "      <td>a</td>\n",
       "    </tr>\n",
       "    <tr>\n",
       "      <th>1</th>\n",
       "      <td>b</td>\n",
       "    </tr>\n",
       "    <tr>\n",
       "      <th>2</th>\n",
       "      <td>c</td>\n",
       "    </tr>\n",
       "  </tbody>\n",
       "</table>\n",
       "</div>"
      ],
      "text/plain": [
       "  vals\n",
       "0    a\n",
       "1    b\n",
       "2    c"
      ]
     },
     "execution_count": 12,
     "metadata": {},
     "output_type": "execute_result"
    }
   ],
   "source": [
    "import pandas as pd\n",
    "s=pd.Series([\"a\",\"b\",\"c\"],name=\"vals\")\n",
    "s.to_frame()\n",
    "             "
   ]
  },
  {
   "cell_type": "code",
   "execution_count": 14,
   "id": "745aa12f-fa2e-41d8-b76a-c86f12c696dd",
   "metadata": {},
   "outputs": [
    {
     "name": "stdout",
     "output_type": "stream",
     "text": [
      "       emp   ID\n",
      "0   Parker  102\n",
      "1     John  107\n",
      "2    Smith  109\n",
      "3  William  114\n"
     ]
    }
   ],
   "source": [
    "import pandas as pd\n",
    "import matplotlib.pyplot as plt\n",
    "emp=[\"Parker\",\"John\",\"Smith\",\"William\"]\n",
    "id=[102,107,109,114]\n",
    "emp_series=pd.Series(emp)\n",
    "id_series=pd.Series(id)\n",
    "frame={'emp':emp_series,'ID':id_series}\n",
    "result=pd.DataFrame(frame)\n",
    "print(result)"
   ]
  },
  {
   "cell_type": "code",
   "execution_count": 17,
   "id": "ac616d0c-8092-4319-be72-0d44c3ac51c8",
   "metadata": {},
   "outputs": [
    {
     "name": "stdout",
     "output_type": "stream",
     "text": [
      "    ID Department\n",
      "0  101       B.SC\n",
      "1  102     B.Tech\n",
      "2  103     M.Tech\n"
     ]
    }
   ],
   "source": [
    "import pandas as pd\n",
    "info={'ID':[101,102,103],'Department':['B.SC','B.Tech','M.Tech',]}\n",
    "df=pd.DataFrame(info)\n",
    "print(df)"
   ]
  },
  {
   "cell_type": "code",
   "execution_count": 32,
   "id": "1735232b-eb72-4401-a76a-da0ce57b0d99",
   "metadata": {},
   "outputs": [
    {
     "name": "stdout",
     "output_type": "stream",
     "text": [
      "   one  two\n",
      "a  1.0    1\n",
      "b  2.0    2\n",
      "c  3.0    3\n",
      "d  4.0    4\n",
      "e  5.0    5\n",
      "f  6.0    6\n",
      "g  NaN    7\n",
      "h  NaN    8\n",
      "Series([], Name: b, dtype: float64)\n"
     ]
    }
   ],
   "source": [
    "import pandas as pd\n",
    "info = {'one':pd.Series([1,2,3,4,5,6], index = ['a','b','c','d','e','f']), 'two':pd.Series([1,2,3,4,5,6,7,8], index = ['a','b','c','d','e','f','g','h'])}\n",
    "d1 = pd.DataFrame(info)\n",
    "print(d1)\n",
    "print(df.loc['b'])"
   ]
  },
  {
   "cell_type": "code",
   "execution_count": 24,
   "id": "3cfa0663-3dfc-4689-84ff-762af7bdbb93",
   "metadata": {},
   "outputs": [
    {
     "name": "stdout",
     "output_type": "stream",
     "text": [
      "        name  age      city\n",
      "0  vaishnavi   19     delhi\n",
      "1      mahak   18    mumbai\n",
      "2      swati   25   chennai\n",
      "3    pratush   24   kolkata\n",
      "4    navdeep   26  banglore\n"
     ]
    }
   ],
   "source": [
    "info={'name':['vaishnavi','mahak','swati','pratush','navdeep'],'age':[19,18,25,24,26],'city':['delhi','mumbai','chennai','kolkata','banglore']}\n",
    "d1=pd.DataFrame(info)\n",
    "print(d1)"
   ]
  },
  {
   "cell_type": "code",
   "execution_count": 25,
   "id": "0cae6731-bb3c-41e0-a9bb-b7fb62fabd83",
   "metadata": {},
   "outputs": [
    {
     "name": "stdout",
     "output_type": "stream",
     "text": [
      "      Name  Age         City\n",
      "0    Alice   25     New York\n",
      "1      Bob   30  Los Angeles\n",
      "2  Charlie   35      Chicago\n"
     ]
    }
   ],
   "source": [
    "# Creating a list of lists\n",
    "import pandas as pd\n",
    "data = [\n",
    "    ['Alice', 25, 'New York'],\n",
    "    ['Bob', 30, 'Los Angeles'],\n",
    "    ['Charlie', 35, 'Chicago']\n",
    "]\n",
    "columns = ['Name', 'Age', 'City']\n",
    "df = pd.DataFrame(data, columns=columns)\n",
    "print(df)"
   ]
  },
  {
   "cell_type": "code",
   "execution_count": 27,
   "id": "bf3aa974-595d-436c-940b-2b057eab7490",
   "metadata": {},
   "outputs": [
    {
     "name": "stdout",
     "output_type": "stream",
     "text": [
      "Add a new column by passing a series\n",
      "   one  two  three\n",
      "a  1.0    1   20.0\n",
      "b  2.0    2   40.0\n",
      "c  3.0    3   60.0\n",
      "d  4.0    4    NaN\n",
      "e  5.0    5    NaN\n",
      "f  6.0    6    NaN\n",
      "g  NaN    7    NaN\n",
      "h  NaN    8    NaN\n",
      "Add new column using existing DataFrame coloumn\n",
      "    one  two  three  four\n",
      "a  20.0    1   20.0  20.0\n",
      "b  40.0    2   40.0  40.0\n",
      "c  60.0    3   60.0  60.0\n",
      "d   NaN    4    NaN   NaN\n",
      "e   NaN    5    NaN   NaN\n",
      "f   NaN    6    NaN   NaN\n",
      "g   NaN    7    NaN   NaN\n",
      "h   NaN    8    NaN   NaN\n"
     ]
    }
   ],
   "source": [
    "#Adding coloumn in existing dataframe\n",
    "import pandas as pd\n",
    "info = {'one':pd.Series([1,2,3,4,5,6],index = ['a','b','c','d','e','f']),\n",
    "    'two':pd.Series([1,2,3,4,5,6,7,8],index = ['a','b','c','d','e','f','g','h'])}\n",
    "df = pd.DataFrame(info)\n",
    "print('Add a new column by passing a series')\n",
    "df['three'] = pd.Series([20,40,60],index = ['a','b','c'])\n",
    "print(df)\n",
    "print('Add new column using existing DataFrame coloumn')\n",
    "df['four'] = df['one'] = df['three']\n",
    "print(df)"
   ]
  },
  {
   "cell_type": "code",
   "execution_count": 31,
   "id": "be193c6d-49b5-4647-8503-c3b69d02e809",
   "metadata": {},
   "outputs": [
    {
     "name": "stdout",
     "output_type": "stream",
     "text": [
      "The DataFrame:\n",
      "   one  two\n",
      "a  1.0    1\n",
      "b  2.0    2\n",
      "c  NaN    3\n",
      "Delete the first column:\n",
      "   two\n",
      "a    1\n",
      "b    2\n",
      "c    3\n",
      "Delete the another column:\n",
      "Empty DataFrame\n",
      "Columns: []\n",
      "Index: [a, b, c]\n"
     ]
    }
   ],
   "source": [
    "import pandas as pd\n",
    "info={'one':pd.Series([1,2],index=['a','b']),'two':pd.Series([1,2,3],index=['a','b','c'])}\n",
    "df=pd.DataFrame(info)\n",
    "print(\"The DataFrame:\")\n",
    "print(df)\n",
    "print(\"Delete the first column:\")\n",
    "del df['one']\n",
    "print(df)\n",
    "print(\"Delete the another column:\")\n",
    "df.pop('two')\n",
    "print(df)"
   ]
  },
  {
   "cell_type": "code",
   "execution_count": 33,
   "id": "d50a6770-4b5a-47a1-a79b-26e42095f91e",
   "metadata": {},
   "outputs": [
    {
     "name": "stdout",
     "output_type": "stream",
     "text": [
      "Students in IT department:\n",
      "    name  student_id dept grade\n",
      "1  Baby         102   IT     B\n",
      "4   Eve         105   IT     B \n",
      "\n",
      "Student at index 2:\n",
      " name          Charlie\n",
      "student_id        103\n",
      "dept               CS\n",
      "grade               A\n",
      "Name: 2, dtype: object \n",
      "\n",
      "Student ID for David: 104\n"
     ]
    }
   ],
   "source": [
    "import pandas as pd\n",
    "students_data = {\n",
    "    'name': ['Alice', 'Baby', 'Charlie', 'David', 'Eve'],\n",
    "    'student_id': [101, 102, 103, 104, 105],\n",
    "    'dept': ['CS', 'IT', 'CS', 'ECE', 'IT'],\n",
    "    'grade': ['A', 'B', 'A', 'C', 'B']}\n",
    "students_df = pd.DataFrame(students_data)\n",
    "def retrieve_by_dept(dept_name):\n",
    "    return students_df[students_df['dept'] == dept_name]\n",
    "def retrieve_by_iloc(index):\n",
    "    return students_df.iloc[index]\n",
    "def retrieve_id_by_name(student_name):\n",
    "    student_row = students_df[students_df['name'] == student_name]\n",
    "    if not student_row.empty:\n",
    "        return student_row['student_id'].values[0]\n",
    "    else:\n",
    "        return \"Student not found\"\n",
    "print(\"Students in IT department:\\n\", retrieve_by_dept('IT'), \"\\n\")\n",
    "print(\"Student at index 2:\\n\", retrieve_by_iloc(2), \"\\n\")\n",
    "print(\"Student ID for David:\", retrieve_id_by_name('David'))"
   ]
  },
  {
   "cell_type": "code",
   "execution_count": 34,
   "id": "92d24ff6-3f51-4800-9264-f63e36491916",
   "metadata": {},
   "outputs": [
    {
     "name": "stdout",
     "output_type": "stream",
     "text": [
      "   one  two\n",
      "c  3.0    3\n",
      "d  4.0    4\n",
      "e  5.0    5\n"
     ]
    }
   ],
   "source": [
    "import pandas as pd \n",
    "info={'one':pd.Series([1,2,3,4,5,6], index = ['a','b','c','d','e','f']), 'two':pd.Series([1,2,3,4,5,6,7,8], index = ['a','b','c','d','e','f','g','h'])}\n",
    "df=pd.DataFrame(info)\n",
    "print(df[2:5])"
   ]
  },
  {
   "cell_type": "code",
   "execution_count": 36,
   "id": "a8e1dc7d-4816-45d2-9a6d-9ce0121ab59b",
   "metadata": {},
   "outputs": [
    {
     "name": "stdout",
     "output_type": "stream",
     "text": [
      "    x   y\n",
      "0   7   8\n",
      "1   9  10\n",
      "2  11  12\n",
      "3  13  14\n"
     ]
    }
   ],
   "source": [
    "import pandas as pd\n",
    "\n",
    "# Creating the dataframes\n",
    "d = pd.DataFrame([[7, 8], [9, 10]], columns=['x', 'y'])\n",
    "d2 = pd.DataFrame([[11, 12], [13, 14]], columns=['x', 'y'])\n",
    "\n",
    "# Using pd.concat() to append d2 to d\n",
    "d = pd.concat([d, d2], ignore_index=True)\n",
    "\n",
    "print(d)\n"
   ]
  },
  {
   "cell_type": "code",
   "execution_count": 38,
   "id": "6388516b-d594-495d-bb97-043ee564f03a",
   "metadata": {},
   "outputs": [
    {
     "name": "stdout",
     "output_type": "stream",
     "text": [
      "    x   y\n",
      "1   6   7\n",
      "2   8   9\n",
      "3  10  11\n"
     ]
    }
   ],
   "source": [
    "import pandas as pd\n",
    "a_info = pd.DataFrame([[4, 5], [6, 7]], columns=['x', 'y'])\n",
    "b_info = pd.DataFrame([[8, 9], [10, 11]], columns=['x', 'y'])\n",
    "d = pd.concat([a_info, b_info], ignore_index=True)\n",
    "d = d.drop(index=0)\n",
    "print(d)"
   ]
  },
  {
   "cell_type": "code",
   "execution_count": 40,
   "id": "b142f526-d864-422d-b519-a6297e4ff624",
   "metadata": {},
   "outputs": [
    {
     "name": "stdout",
     "output_type": "stream",
     "text": [
      "     GENDER  AGE SMOKING YELLOW_FINGERS ANXIETY PEER_PRESSURE CHRONIC_DISEASE  \\\n",
      "0         M   65     Yes            Yes     Yes            No              No   \n",
      "1         F   55     Yes             No      No           Yes             Yes   \n",
      "2         F   78      No             No     Yes           Yes             Yes   \n",
      "3         M   60      No            Yes     Yes           Yes              No   \n",
      "4         F   80     Yes            Yes      No           Yes             Yes   \n",
      "...     ...  ...     ...            ...     ...           ...             ...   \n",
      "2995      F   71      No            Yes     Yes            No              No   \n",
      "2996      F   75     Yes             No     Yes           Yes             Yes   \n",
      "2997      F   62      No             No      No           Yes              No   \n",
      "2998      M   30     Yes            Yes      No            No              No   \n",
      "2999      M   40     Yes             No      No           Yes             Yes   \n",
      "\n",
      "     FATIGUE ALLERGY WHEEZING ALCOHOL_CONSUMING COUGHING SHORTNESS_OF_BREATH  \\\n",
      "0        Yes      No       No                No       No                  No   \n",
      "1         No      No       No               Yes      Yes                 Yes   \n",
      "2         No     Yes       No               Yes      Yes                  No   \n",
      "3        Yes      No      Yes               Yes       No                 Yes   \n",
      "4         No     Yes       No               Yes      Yes                 Yes   \n",
      "...      ...     ...      ...               ...      ...                 ...   \n",
      "2995     Yes     Yes      Yes               Yes       No                 Yes   \n",
      "2996      No      No       No                No      Yes                 Yes   \n",
      "2997      No      No       No               Yes      Yes                  No   \n",
      "2998      No      No       No                No      Yes                  No   \n",
      "2999     Yes      No       No                No      Yes                 Yes   \n",
      "\n",
      "     SWALLOWING_DIFFICULTY CHEST_PAIN LUNG_CANCER  \n",
      "0                       No        Yes          NO  \n",
      "1                       No         No          NO  \n",
      "2                      Yes        Yes         YES  \n",
      "3                       No         No         YES  \n",
      "4                      Yes         No          NO  \n",
      "...                    ...        ...         ...  \n",
      "2995                   Yes         No          NO  \n",
      "2996                    No        Yes          NO  \n",
      "2997                    No         No         YES  \n",
      "2998                   Yes         No         YES  \n",
      "2999                   Yes        Yes         YES  \n",
      "\n",
      "[3000 rows x 16 columns]\n"
     ]
    }
   ],
   "source": [
    "import pandas as pd\n",
    "df=pd.read_csv(\"C:\\\\Users\\\\swati\\\\Downloads\\\\Lungcancer.csv\")\n",
    "print(df)"
   ]
  },
  {
   "cell_type": "code",
   "execution_count": 42,
   "id": "fafc522e-0752-4309-897b-f90d5187285c",
   "metadata": {},
   "outputs": [
    {
     "name": "stdout",
     "output_type": "stream",
     "text": [
      "(3000, 16)\n"
     ]
    }
   ],
   "source": [
    "x=df.shape\n",
    "print(x)"
   ]
  },
  {
   "cell_type": "code",
   "execution_count": 43,
   "id": "6a77ed61-ddc2-4063-aa37-2f87ef171321",
   "metadata": {},
   "outputs": [
    {
     "name": "stdout",
     "output_type": "stream",
     "text": [
      "  GENDER  AGE SMOKING YELLOW_FINGERS ANXIETY PEER_PRESSURE CHRONIC_DISEASE  \\\n",
      "0      M   65     Yes            Yes     Yes            No              No   \n",
      "1      F   55     Yes             No      No           Yes             Yes   \n",
      "2      F   78      No             No     Yes           Yes             Yes   \n",
      "3      M   60      No            Yes     Yes           Yes              No   \n",
      "4      F   80     Yes            Yes      No           Yes             Yes   \n",
      "\n",
      "  FATIGUE ALLERGY WHEEZING ALCOHOL_CONSUMING COUGHING SHORTNESS_OF_BREATH  \\\n",
      "0     Yes      No       No                No       No                  No   \n",
      "1      No      No       No               Yes      Yes                 Yes   \n",
      "2      No     Yes       No               Yes      Yes                  No   \n",
      "3     Yes      No      Yes               Yes       No                 Yes   \n",
      "4      No     Yes       No               Yes      Yes                 Yes   \n",
      "\n",
      "  SWALLOWING_DIFFICULTY CHEST_PAIN LUNG_CANCER  \n",
      "0                    No        Yes          NO  \n",
      "1                    No         No          NO  \n",
      "2                   Yes        Yes         YES  \n",
      "3                    No         No         YES  \n",
      "4                   Yes         No          NO  \n"
     ]
    }
   ],
   "source": [
    "y=df.head()\n",
    "print(y)"
   ]
  },
  {
   "cell_type": "code",
   "execution_count": 44,
   "id": "bac345c1-e096-49b7-a81a-7be70167351d",
   "metadata": {},
   "outputs": [
    {
     "name": "stdout",
     "output_type": "stream",
     "text": [
      "     GENDER  AGE SMOKING YELLOW_FINGERS ANXIETY PEER_PRESSURE CHRONIC_DISEASE  \\\n",
      "2995      F   71      No            Yes     Yes            No              No   \n",
      "2996      F   75     Yes             No     Yes           Yes             Yes   \n",
      "2997      F   62      No             No      No           Yes              No   \n",
      "2998      M   30     Yes            Yes      No            No              No   \n",
      "2999      M   40     Yes             No      No           Yes             Yes   \n",
      "\n",
      "     FATIGUE ALLERGY WHEEZING ALCOHOL_CONSUMING COUGHING SHORTNESS_OF_BREATH  \\\n",
      "2995     Yes     Yes      Yes               Yes       No                 Yes   \n",
      "2996      No      No       No                No      Yes                 Yes   \n",
      "2997      No      No       No               Yes      Yes                  No   \n",
      "2998      No      No       No                No      Yes                  No   \n",
      "2999     Yes      No       No                No      Yes                 Yes   \n",
      "\n",
      "     SWALLOWING_DIFFICULTY CHEST_PAIN LUNG_CANCER  \n",
      "2995                   Yes         No          NO  \n",
      "2996                    No        Yes          NO  \n",
      "2997                    No         No         YES  \n",
      "2998                   Yes         No         YES  \n",
      "2999                   Yes        Yes         YES  \n"
     ]
    }
   ],
   "source": [
    "z=df.tail()\n",
    "print(z)"
   ]
  },
  {
   "cell_type": "code",
   "execution_count": 45,
   "id": "2b18c14a-7747-4213-9520-57da7b1e9eae",
   "metadata": {},
   "outputs": [
    {
     "name": "stdout",
     "output_type": "stream",
     "text": [
      "<class 'pandas.core.frame.DataFrame'>\n",
      "RangeIndex: 3000 entries, 0 to 2999\n",
      "Data columns (total 16 columns):\n",
      " #   Column                 Non-Null Count  Dtype \n",
      "---  ------                 --------------  ----- \n",
      " 0   GENDER                 3000 non-null   object\n",
      " 1   AGE                    3000 non-null   int64 \n",
      " 2   SMOKING                3000 non-null   object\n",
      " 3   YELLOW_FINGERS         3000 non-null   object\n",
      " 4   ANXIETY                3000 non-null   object\n",
      " 5   PEER_PRESSURE          3000 non-null   object\n",
      " 6   CHRONIC_DISEASE        3000 non-null   object\n",
      " 7   FATIGUE                3000 non-null   object\n",
      " 8   ALLERGY                3000 non-null   object\n",
      " 9   WHEEZING               3000 non-null   object\n",
      " 10  ALCOHOL_CONSUMING      3000 non-null   object\n",
      " 11  COUGHING               3000 non-null   object\n",
      " 12  SHORTNESS_OF_BREATH    3000 non-null   object\n",
      " 13  SWALLOWING_DIFFICULTY  3000 non-null   object\n",
      " 14  CHEST_PAIN             3000 non-null   object\n",
      " 15  LUNG_CANCER            3000 non-null   object\n",
      "dtypes: int64(1), object(15)\n",
      "memory usage: 375.1+ KB\n",
      "None\n"
     ]
    }
   ],
   "source": [
    "a=df.info()\n",
    "print(a)"
   ]
  },
  {
   "cell_type": "code",
   "execution_count": 49,
   "id": "b63b1f0b-78ea-4b6c-83f5-3f7e86881aa8",
   "metadata": {},
   "outputs": [
    {
     "name": "stdout",
     "output_type": "stream",
     "text": [
      "GENDER  AGE  SMOKING  YELLOW_FINGERS  ANXIETY  PEER_PRESSURE  CHRONIC_DISEASE  FATIGUE  ALLERGY  WHEEZING  ALCOHOL_CONSUMING  COUGHING  SHORTNESS_OF_BREATH  SWALLOWING_DIFFICULTY  CHEST_PAIN  LUNG_CANCER\n",
      "M       53   Yes      No              No       No             No               Yes      Yes      Yes       Yes                No        No                   Yes                    No          NO             2\n",
      "        50   Yes      Yes             Yes      No             Yes              No       Yes      No        No                 No        No                   Yes                    No          YES            2\n",
      "F       30   No       No              No       No             Yes              Yes      No       No        No                 No        Yes                  Yes                    Yes         NO             1\n",
      "M       47   No       Yes             Yes      Yes            No               No       No       No        Yes                No        No                   Yes                    No          NO             1\n",
      "                      No              Yes      Yes            Yes              Yes      Yes      No        No                 No        Yes                  Yes                    No          NO             1\n",
      "                                                                                                                                                                                                              ..\n",
      "F       63   Yes      Yes             No       Yes            No               Yes      Yes      No        No                 No        Yes                  Yes                    Yes         NO             1\n",
      "                                                              Yes              Yes      No       Yes       Yes                Yes       Yes                  Yes                    No          NO             1\n",
      "                                                                                        Yes      No        No                 No        No                   No                     No          YES            1\n",
      "                                                                                                                              Yes       No                   Yes                    Yes         YES            1\n",
      "M       80   Yes      Yes             Yes      Yes            No               Yes      No       Yes       Yes                Yes       Yes                  Yes                    No          NO             1\n",
      "Name: count, Length: 2998, dtype: int64\n"
     ]
    }
   ],
   "source": [
    "import pandas as pd \n",
    "df=pd.read_csv(\"C:\\\\Users\\\\swati\\\\Downloads\\\\Lungcancer.csv\")\n",
    "x=df.value_counts(dropna=False)\n",
    "print(x)\n"
   ]
  },
  {
   "cell_type": "code",
   "execution_count": 50,
   "id": "15b2c7b2-74ed-4db2-a6fc-dee7286b4670",
   "metadata": {},
   "outputs": [
    {
     "data": {
      "text/plain": [
       "<function pandas.core.dtypes.missing.isna(obj: 'object') -> 'bool | npt.NDArray[np.bool_] | NDFrame'>"
      ]
     },
     "execution_count": 50,
     "metadata": {},
     "output_type": "execute_result"
    }
   ],
   "source": [
    "#Data Cleaning\n",
    "import pandas as pd \n",
    "df=pd.read_csv(\"C:\\\\Users\\\\swati\\\\Downloads\\\\Lungcancer.csv\")\n",
    "pd.isnull"
   ]
  },
  {
   "cell_type": "code",
   "execution_count": 51,
   "id": "4582094d-a986-486b-a48e-8aa72fb948a9",
   "metadata": {},
   "outputs": [
    {
     "data": {
      "text/plain": [
       "<function pandas.core.dtypes.missing.notna(obj: 'object') -> 'bool | npt.NDArray[np.bool_] | NDFrame'>"
      ]
     },
     "execution_count": 51,
     "metadata": {},
     "output_type": "execute_result"
    }
   ],
   "source": [
    "import pandas as pd \n",
    "df=pd.read_csv(\"C:\\\\Users\\\\swati\\\\Downloads\\\\Lungcancer.csv\")\n",
    "pd.notnull"
   ]
  },
  {
   "cell_type": "code",
   "execution_count": 53,
   "id": "5219907b-7cc2-484f-91a3-c44f3a474cef",
   "metadata": {},
   "outputs": [
    {
     "data": {
      "text/html": [
       "<div>\n",
       "<style scoped>\n",
       "    .dataframe tbody tr th:only-of-type {\n",
       "        vertical-align: middle;\n",
       "    }\n",
       "\n",
       "    .dataframe tbody tr th {\n",
       "        vertical-align: top;\n",
       "    }\n",
       "\n",
       "    .dataframe thead th {\n",
       "        text-align: right;\n",
       "    }\n",
       "</style>\n",
       "<table border=\"1\" class=\"dataframe\">\n",
       "  <thead>\n",
       "    <tr style=\"text-align: right;\">\n",
       "      <th></th>\n",
       "      <th>GENDER</th>\n",
       "      <th>AGE</th>\n",
       "      <th>SMOKING</th>\n",
       "      <th>YELLOW_FINGERS</th>\n",
       "      <th>ANXIETY</th>\n",
       "      <th>PEER_PRESSURE</th>\n",
       "      <th>CHRONIC_DISEASE</th>\n",
       "      <th>FATIGUE</th>\n",
       "      <th>ALLERGY</th>\n",
       "      <th>WHEEZING</th>\n",
       "      <th>ALCOHOL_CONSUMING</th>\n",
       "      <th>COUGHING</th>\n",
       "      <th>SHORTNESS_OF_BREATH</th>\n",
       "      <th>SWALLOWING_DIFFICULTY</th>\n",
       "      <th>CHEST_PAIN</th>\n",
       "      <th>LUNG_CANCER</th>\n",
       "    </tr>\n",
       "  </thead>\n",
       "  <tbody>\n",
       "    <tr>\n",
       "      <th>0</th>\n",
       "      <td>M</td>\n",
       "      <td>65</td>\n",
       "      <td>Yes</td>\n",
       "      <td>Yes</td>\n",
       "      <td>Yes</td>\n",
       "      <td>No</td>\n",
       "      <td>No</td>\n",
       "      <td>Yes</td>\n",
       "      <td>No</td>\n",
       "      <td>No</td>\n",
       "      <td>No</td>\n",
       "      <td>No</td>\n",
       "      <td>No</td>\n",
       "      <td>No</td>\n",
       "      <td>Yes</td>\n",
       "      <td>NO</td>\n",
       "    </tr>\n",
       "    <tr>\n",
       "      <th>1</th>\n",
       "      <td>F</td>\n",
       "      <td>55</td>\n",
       "      <td>Yes</td>\n",
       "      <td>No</td>\n",
       "      <td>No</td>\n",
       "      <td>Yes</td>\n",
       "      <td>Yes</td>\n",
       "      <td>No</td>\n",
       "      <td>No</td>\n",
       "      <td>No</td>\n",
       "      <td>Yes</td>\n",
       "      <td>Yes</td>\n",
       "      <td>Yes</td>\n",
       "      <td>No</td>\n",
       "      <td>No</td>\n",
       "      <td>NO</td>\n",
       "    </tr>\n",
       "    <tr>\n",
       "      <th>2</th>\n",
       "      <td>F</td>\n",
       "      <td>78</td>\n",
       "      <td>No</td>\n",
       "      <td>No</td>\n",
       "      <td>Yes</td>\n",
       "      <td>Yes</td>\n",
       "      <td>Yes</td>\n",
       "      <td>No</td>\n",
       "      <td>Yes</td>\n",
       "      <td>No</td>\n",
       "      <td>Yes</td>\n",
       "      <td>Yes</td>\n",
       "      <td>No</td>\n",
       "      <td>Yes</td>\n",
       "      <td>Yes</td>\n",
       "      <td>YES</td>\n",
       "    </tr>\n",
       "    <tr>\n",
       "      <th>3</th>\n",
       "      <td>M</td>\n",
       "      <td>60</td>\n",
       "      <td>No</td>\n",
       "      <td>Yes</td>\n",
       "      <td>Yes</td>\n",
       "      <td>Yes</td>\n",
       "      <td>No</td>\n",
       "      <td>Yes</td>\n",
       "      <td>No</td>\n",
       "      <td>Yes</td>\n",
       "      <td>Yes</td>\n",
       "      <td>No</td>\n",
       "      <td>Yes</td>\n",
       "      <td>No</td>\n",
       "      <td>No</td>\n",
       "      <td>YES</td>\n",
       "    </tr>\n",
       "    <tr>\n",
       "      <th>4</th>\n",
       "      <td>F</td>\n",
       "      <td>80</td>\n",
       "      <td>Yes</td>\n",
       "      <td>Yes</td>\n",
       "      <td>No</td>\n",
       "      <td>Yes</td>\n",
       "      <td>Yes</td>\n",
       "      <td>No</td>\n",
       "      <td>Yes</td>\n",
       "      <td>No</td>\n",
       "      <td>Yes</td>\n",
       "      <td>Yes</td>\n",
       "      <td>Yes</td>\n",
       "      <td>Yes</td>\n",
       "      <td>No</td>\n",
       "      <td>NO</td>\n",
       "    </tr>\n",
       "    <tr>\n",
       "      <th>...</th>\n",
       "      <td>...</td>\n",
       "      <td>...</td>\n",
       "      <td>...</td>\n",
       "      <td>...</td>\n",
       "      <td>...</td>\n",
       "      <td>...</td>\n",
       "      <td>...</td>\n",
       "      <td>...</td>\n",
       "      <td>...</td>\n",
       "      <td>...</td>\n",
       "      <td>...</td>\n",
       "      <td>...</td>\n",
       "      <td>...</td>\n",
       "      <td>...</td>\n",
       "      <td>...</td>\n",
       "      <td>...</td>\n",
       "    </tr>\n",
       "    <tr>\n",
       "      <th>2995</th>\n",
       "      <td>F</td>\n",
       "      <td>71</td>\n",
       "      <td>No</td>\n",
       "      <td>Yes</td>\n",
       "      <td>Yes</td>\n",
       "      <td>No</td>\n",
       "      <td>No</td>\n",
       "      <td>Yes</td>\n",
       "      <td>Yes</td>\n",
       "      <td>Yes</td>\n",
       "      <td>Yes</td>\n",
       "      <td>No</td>\n",
       "      <td>Yes</td>\n",
       "      <td>Yes</td>\n",
       "      <td>No</td>\n",
       "      <td>NO</td>\n",
       "    </tr>\n",
       "    <tr>\n",
       "      <th>2996</th>\n",
       "      <td>F</td>\n",
       "      <td>75</td>\n",
       "      <td>Yes</td>\n",
       "      <td>No</td>\n",
       "      <td>Yes</td>\n",
       "      <td>Yes</td>\n",
       "      <td>Yes</td>\n",
       "      <td>No</td>\n",
       "      <td>No</td>\n",
       "      <td>No</td>\n",
       "      <td>No</td>\n",
       "      <td>Yes</td>\n",
       "      <td>Yes</td>\n",
       "      <td>No</td>\n",
       "      <td>Yes</td>\n",
       "      <td>NO</td>\n",
       "    </tr>\n",
       "    <tr>\n",
       "      <th>2997</th>\n",
       "      <td>F</td>\n",
       "      <td>62</td>\n",
       "      <td>No</td>\n",
       "      <td>No</td>\n",
       "      <td>No</td>\n",
       "      <td>Yes</td>\n",
       "      <td>No</td>\n",
       "      <td>No</td>\n",
       "      <td>No</td>\n",
       "      <td>No</td>\n",
       "      <td>Yes</td>\n",
       "      <td>Yes</td>\n",
       "      <td>No</td>\n",
       "      <td>No</td>\n",
       "      <td>No</td>\n",
       "      <td>YES</td>\n",
       "    </tr>\n",
       "    <tr>\n",
       "      <th>2998</th>\n",
       "      <td>M</td>\n",
       "      <td>30</td>\n",
       "      <td>Yes</td>\n",
       "      <td>Yes</td>\n",
       "      <td>No</td>\n",
       "      <td>No</td>\n",
       "      <td>No</td>\n",
       "      <td>No</td>\n",
       "      <td>No</td>\n",
       "      <td>No</td>\n",
       "      <td>No</td>\n",
       "      <td>Yes</td>\n",
       "      <td>No</td>\n",
       "      <td>Yes</td>\n",
       "      <td>No</td>\n",
       "      <td>YES</td>\n",
       "    </tr>\n",
       "    <tr>\n",
       "      <th>2999</th>\n",
       "      <td>M</td>\n",
       "      <td>40</td>\n",
       "      <td>Yes</td>\n",
       "      <td>No</td>\n",
       "      <td>No</td>\n",
       "      <td>Yes</td>\n",
       "      <td>Yes</td>\n",
       "      <td>Yes</td>\n",
       "      <td>No</td>\n",
       "      <td>No</td>\n",
       "      <td>No</td>\n",
       "      <td>Yes</td>\n",
       "      <td>Yes</td>\n",
       "      <td>Yes</td>\n",
       "      <td>Yes</td>\n",
       "      <td>YES</td>\n",
       "    </tr>\n",
       "  </tbody>\n",
       "</table>\n",
       "<p>3000 rows × 16 columns</p>\n",
       "</div>"
      ],
      "text/plain": [
       "     GENDER  AGE SMOKING YELLOW_FINGERS ANXIETY PEER_PRESSURE CHRONIC_DISEASE  \\\n",
       "0         M   65     Yes            Yes     Yes            No              No   \n",
       "1         F   55     Yes             No      No           Yes             Yes   \n",
       "2         F   78      No             No     Yes           Yes             Yes   \n",
       "3         M   60      No            Yes     Yes           Yes              No   \n",
       "4         F   80     Yes            Yes      No           Yes             Yes   \n",
       "...     ...  ...     ...            ...     ...           ...             ...   \n",
       "2995      F   71      No            Yes     Yes            No              No   \n",
       "2996      F   75     Yes             No     Yes           Yes             Yes   \n",
       "2997      F   62      No             No      No           Yes              No   \n",
       "2998      M   30     Yes            Yes      No            No              No   \n",
       "2999      M   40     Yes             No      No           Yes             Yes   \n",
       "\n",
       "     FATIGUE ALLERGY WHEEZING ALCOHOL_CONSUMING COUGHING SHORTNESS_OF_BREATH  \\\n",
       "0        Yes      No       No                No       No                  No   \n",
       "1         No      No       No               Yes      Yes                 Yes   \n",
       "2         No     Yes       No               Yes      Yes                  No   \n",
       "3        Yes      No      Yes               Yes       No                 Yes   \n",
       "4         No     Yes       No               Yes      Yes                 Yes   \n",
       "...      ...     ...      ...               ...      ...                 ...   \n",
       "2995     Yes     Yes      Yes               Yes       No                 Yes   \n",
       "2996      No      No       No                No      Yes                 Yes   \n",
       "2997      No      No       No               Yes      Yes                  No   \n",
       "2998      No      No       No                No      Yes                  No   \n",
       "2999     Yes      No       No                No      Yes                 Yes   \n",
       "\n",
       "     SWALLOWING_DIFFICULTY CHEST_PAIN LUNG_CANCER  \n",
       "0                       No        Yes          NO  \n",
       "1                       No         No          NO  \n",
       "2                      Yes        Yes         YES  \n",
       "3                       No         No         YES  \n",
       "4                      Yes         No          NO  \n",
       "...                    ...        ...         ...  \n",
       "2995                   Yes         No          NO  \n",
       "2996                    No        Yes          NO  \n",
       "2997                    No         No         YES  \n",
       "2998                   Yes         No         YES  \n",
       "2999                   Yes        Yes         YES  \n",
       "\n",
       "[3000 rows x 16 columns]"
      ]
     },
     "execution_count": 53,
     "metadata": {},
     "output_type": "execute_result"
    }
   ],
   "source": [
    "import pandas as pd \n",
    "df=pd.read_csv(\"C:\\\\Users\\\\swati\\\\Downloads\\\\Lungcancer.csv\")\n",
    "df.dropna(axis=1)"
   ]
  },
  {
   "cell_type": "code",
   "execution_count": 56,
   "id": "c582bf92-8c91-444a-b5db-3f74498e6caf",
   "metadata": {},
   "outputs": [
    {
     "data": {
      "text/html": [
       "<div>\n",
       "<style scoped>\n",
       "    .dataframe tbody tr th:only-of-type {\n",
       "        vertical-align: middle;\n",
       "    }\n",
       "\n",
       "    .dataframe tbody tr th {\n",
       "        vertical-align: top;\n",
       "    }\n",
       "\n",
       "    .dataframe thead th {\n",
       "        text-align: right;\n",
       "    }\n",
       "</style>\n",
       "<table border=\"1\" class=\"dataframe\">\n",
       "  <thead>\n",
       "    <tr style=\"text-align: right;\">\n",
       "      <th></th>\n",
       "      <th>GENDER</th>\n",
       "      <th>AGE</th>\n",
       "      <th>SMOKING</th>\n",
       "      <th>YELLOW_FINGERS</th>\n",
       "      <th>ANXIETY</th>\n",
       "      <th>PEER_PRESSURE</th>\n",
       "      <th>CHRONIC_DISEASE</th>\n",
       "      <th>FATIGUE</th>\n",
       "      <th>ALLERGY</th>\n",
       "      <th>WHEEZING</th>\n",
       "      <th>ALCOHOL_CONSUMING</th>\n",
       "      <th>COUGHING</th>\n",
       "      <th>SHORTNESS_OF_BREATH</th>\n",
       "      <th>SWALLOWING_DIFFICULTY</th>\n",
       "      <th>CHEST_PAIN</th>\n",
       "      <th>LUNG_CANCER</th>\n",
       "    </tr>\n",
       "  </thead>\n",
       "  <tbody>\n",
       "    <tr>\n",
       "      <th>0</th>\n",
       "      <td>M</td>\n",
       "      <td>65</td>\n",
       "      <td>Yes</td>\n",
       "      <td>Yes</td>\n",
       "      <td>Yes</td>\n",
       "      <td>No</td>\n",
       "      <td>No</td>\n",
       "      <td>Yes</td>\n",
       "      <td>No</td>\n",
       "      <td>No</td>\n",
       "      <td>No</td>\n",
       "      <td>No</td>\n",
       "      <td>No</td>\n",
       "      <td>No</td>\n",
       "      <td>Yes</td>\n",
       "      <td>NO</td>\n",
       "    </tr>\n",
       "    <tr>\n",
       "      <th>1</th>\n",
       "      <td>F</td>\n",
       "      <td>55</td>\n",
       "      <td>Yes</td>\n",
       "      <td>No</td>\n",
       "      <td>No</td>\n",
       "      <td>Yes</td>\n",
       "      <td>Yes</td>\n",
       "      <td>No</td>\n",
       "      <td>No</td>\n",
       "      <td>No</td>\n",
       "      <td>Yes</td>\n",
       "      <td>Yes</td>\n",
       "      <td>Yes</td>\n",
       "      <td>No</td>\n",
       "      <td>No</td>\n",
       "      <td>NO</td>\n",
       "    </tr>\n",
       "    <tr>\n",
       "      <th>2</th>\n",
       "      <td>F</td>\n",
       "      <td>78</td>\n",
       "      <td>No</td>\n",
       "      <td>No</td>\n",
       "      <td>Yes</td>\n",
       "      <td>Yes</td>\n",
       "      <td>Yes</td>\n",
       "      <td>No</td>\n",
       "      <td>Yes</td>\n",
       "      <td>No</td>\n",
       "      <td>Yes</td>\n",
       "      <td>Yes</td>\n",
       "      <td>No</td>\n",
       "      <td>Yes</td>\n",
       "      <td>Yes</td>\n",
       "      <td>YES</td>\n",
       "    </tr>\n",
       "    <tr>\n",
       "      <th>3</th>\n",
       "      <td>M</td>\n",
       "      <td>60</td>\n",
       "      <td>No</td>\n",
       "      <td>Yes</td>\n",
       "      <td>Yes</td>\n",
       "      <td>Yes</td>\n",
       "      <td>No</td>\n",
       "      <td>Yes</td>\n",
       "      <td>No</td>\n",
       "      <td>Yes</td>\n",
       "      <td>Yes</td>\n",
       "      <td>No</td>\n",
       "      <td>Yes</td>\n",
       "      <td>No</td>\n",
       "      <td>No</td>\n",
       "      <td>YES</td>\n",
       "    </tr>\n",
       "    <tr>\n",
       "      <th>4</th>\n",
       "      <td>F</td>\n",
       "      <td>80</td>\n",
       "      <td>Yes</td>\n",
       "      <td>Yes</td>\n",
       "      <td>No</td>\n",
       "      <td>Yes</td>\n",
       "      <td>Yes</td>\n",
       "      <td>No</td>\n",
       "      <td>Yes</td>\n",
       "      <td>No</td>\n",
       "      <td>Yes</td>\n",
       "      <td>Yes</td>\n",
       "      <td>Yes</td>\n",
       "      <td>Yes</td>\n",
       "      <td>No</td>\n",
       "      <td>NO</td>\n",
       "    </tr>\n",
       "    <tr>\n",
       "      <th>...</th>\n",
       "      <td>...</td>\n",
       "      <td>...</td>\n",
       "      <td>...</td>\n",
       "      <td>...</td>\n",
       "      <td>...</td>\n",
       "      <td>...</td>\n",
       "      <td>...</td>\n",
       "      <td>...</td>\n",
       "      <td>...</td>\n",
       "      <td>...</td>\n",
       "      <td>...</td>\n",
       "      <td>...</td>\n",
       "      <td>...</td>\n",
       "      <td>...</td>\n",
       "      <td>...</td>\n",
       "      <td>...</td>\n",
       "    </tr>\n",
       "    <tr>\n",
       "      <th>2995</th>\n",
       "      <td>F</td>\n",
       "      <td>71</td>\n",
       "      <td>No</td>\n",
       "      <td>Yes</td>\n",
       "      <td>Yes</td>\n",
       "      <td>No</td>\n",
       "      <td>No</td>\n",
       "      <td>Yes</td>\n",
       "      <td>Yes</td>\n",
       "      <td>Yes</td>\n",
       "      <td>Yes</td>\n",
       "      <td>No</td>\n",
       "      <td>Yes</td>\n",
       "      <td>Yes</td>\n",
       "      <td>No</td>\n",
       "      <td>NO</td>\n",
       "    </tr>\n",
       "    <tr>\n",
       "      <th>2996</th>\n",
       "      <td>F</td>\n",
       "      <td>75</td>\n",
       "      <td>Yes</td>\n",
       "      <td>No</td>\n",
       "      <td>Yes</td>\n",
       "      <td>Yes</td>\n",
       "      <td>Yes</td>\n",
       "      <td>No</td>\n",
       "      <td>No</td>\n",
       "      <td>No</td>\n",
       "      <td>No</td>\n",
       "      <td>Yes</td>\n",
       "      <td>Yes</td>\n",
       "      <td>No</td>\n",
       "      <td>Yes</td>\n",
       "      <td>NO</td>\n",
       "    </tr>\n",
       "    <tr>\n",
       "      <th>2997</th>\n",
       "      <td>F</td>\n",
       "      <td>62</td>\n",
       "      <td>No</td>\n",
       "      <td>No</td>\n",
       "      <td>No</td>\n",
       "      <td>Yes</td>\n",
       "      <td>No</td>\n",
       "      <td>No</td>\n",
       "      <td>No</td>\n",
       "      <td>No</td>\n",
       "      <td>Yes</td>\n",
       "      <td>Yes</td>\n",
       "      <td>No</td>\n",
       "      <td>No</td>\n",
       "      <td>No</td>\n",
       "      <td>YES</td>\n",
       "    </tr>\n",
       "    <tr>\n",
       "      <th>2998</th>\n",
       "      <td>M</td>\n",
       "      <td>30</td>\n",
       "      <td>Yes</td>\n",
       "      <td>Yes</td>\n",
       "      <td>No</td>\n",
       "      <td>No</td>\n",
       "      <td>No</td>\n",
       "      <td>No</td>\n",
       "      <td>No</td>\n",
       "      <td>No</td>\n",
       "      <td>No</td>\n",
       "      <td>Yes</td>\n",
       "      <td>No</td>\n",
       "      <td>Yes</td>\n",
       "      <td>No</td>\n",
       "      <td>YES</td>\n",
       "    </tr>\n",
       "    <tr>\n",
       "      <th>2999</th>\n",
       "      <td>M</td>\n",
       "      <td>40</td>\n",
       "      <td>Yes</td>\n",
       "      <td>No</td>\n",
       "      <td>No</td>\n",
       "      <td>Yes</td>\n",
       "      <td>Yes</td>\n",
       "      <td>Yes</td>\n",
       "      <td>No</td>\n",
       "      <td>No</td>\n",
       "      <td>No</td>\n",
       "      <td>Yes</td>\n",
       "      <td>Yes</td>\n",
       "      <td>Yes</td>\n",
       "      <td>Yes</td>\n",
       "      <td>YES</td>\n",
       "    </tr>\n",
       "  </tbody>\n",
       "</table>\n",
       "<p>3000 rows × 16 columns</p>\n",
       "</div>"
      ],
      "text/plain": [
       "     GENDER  AGE SMOKING YELLOW_FINGERS ANXIETY PEER_PRESSURE CHRONIC_DISEASE  \\\n",
       "0         M   65     Yes            Yes     Yes            No              No   \n",
       "1         F   55     Yes             No      No           Yes             Yes   \n",
       "2         F   78      No             No     Yes           Yes             Yes   \n",
       "3         M   60      No            Yes     Yes           Yes              No   \n",
       "4         F   80     Yes            Yes      No           Yes             Yes   \n",
       "...     ...  ...     ...            ...     ...           ...             ...   \n",
       "2995      F   71      No            Yes     Yes            No              No   \n",
       "2996      F   75     Yes             No     Yes           Yes             Yes   \n",
       "2997      F   62      No             No      No           Yes              No   \n",
       "2998      M   30     Yes            Yes      No            No              No   \n",
       "2999      M   40     Yes             No      No           Yes             Yes   \n",
       "\n",
       "     FATIGUE ALLERGY WHEEZING ALCOHOL_CONSUMING COUGHING SHORTNESS_OF_BREATH  \\\n",
       "0        Yes      No       No                No       No                  No   \n",
       "1         No      No       No               Yes      Yes                 Yes   \n",
       "2         No     Yes       No               Yes      Yes                  No   \n",
       "3        Yes      No      Yes               Yes       No                 Yes   \n",
       "4         No     Yes       No               Yes      Yes                 Yes   \n",
       "...      ...     ...      ...               ...      ...                 ...   \n",
       "2995     Yes     Yes      Yes               Yes       No                 Yes   \n",
       "2996      No      No       No                No      Yes                 Yes   \n",
       "2997      No      No       No               Yes      Yes                  No   \n",
       "2998      No      No       No                No      Yes                  No   \n",
       "2999     Yes      No       No                No      Yes                 Yes   \n",
       "\n",
       "     SWALLOWING_DIFFICULTY CHEST_PAIN LUNG_CANCER  \n",
       "0                       No        Yes          NO  \n",
       "1                       No         No          NO  \n",
       "2                      Yes        Yes         YES  \n",
       "3                       No         No         YES  \n",
       "4                      Yes         No          NO  \n",
       "...                    ...        ...         ...  \n",
       "2995                   Yes         No          NO  \n",
       "2996                    No        Yes          NO  \n",
       "2997                    No         No         YES  \n",
       "2998                   Yes         No         YES  \n",
       "2999                   Yes        Yes         YES  \n",
       "\n",
       "[3000 rows x 16 columns]"
      ]
     },
     "execution_count": 56,
     "metadata": {},
     "output_type": "execute_result"
    }
   ],
   "source": [
    "df.fillna(x)"
   ]
  },
  {
   "cell_type": "code",
   "execution_count": null,
   "id": "7449a908-7fcc-4fb2-80bd-ef306b621d9c",
   "metadata": {},
   "outputs": [],
   "source": []
  }
 ],
 "metadata": {
  "kernelspec": {
   "display_name": "Python 3 (ipykernel)",
   "language": "python",
   "name": "python3"
  },
  "language_info": {
   "codemirror_mode": {
    "name": "ipython",
    "version": 3
   },
   "file_extension": ".py",
   "mimetype": "text/x-python",
   "name": "python",
   "nbconvert_exporter": "python",
   "pygments_lexer": "ipython3",
   "version": "3.11.5"
  }
 },
 "nbformat": 4,
 "nbformat_minor": 5
}
